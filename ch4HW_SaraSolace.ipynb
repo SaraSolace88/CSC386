{
 "cells": [
  {
   "cell_type": "code",
   "execution_count": 3,
   "metadata": {},
   "outputs": [
    {
     "name": "stdout",
     "output_type": "stream",
     "text": [
      "5\n",
      "-19\n",
      "173\n",
      "-1363\n",
      "10925\n",
      "-87379\n",
      "699053\n",
      "-5592403\n",
      "44739245\n",
      "-357913939\n",
      "2863311533\n",
      "The weight flips signs and gets larger & larger\n"
     ]
    }
   ],
   "source": [
    "import sys\n",
    "\n",
    "def neural_network(input, weight):\n",
    "    return input * weight\n",
    "\n",
    "\n",
    "input = 3 \n",
    "initialWeight = 2 \n",
    "goalOutput = 7 \n",
    "alpha = 1\n",
    "\n",
    "mse = 0\n",
    "old_mse = sys.float_info.max\n",
    "\n",
    "iterations = 0\n",
    "weight = initialWeight\n",
    "while(iterations <= 10):\n",
    "    iterations += 1\n",
    "    pred = input * weight\n",
    "    delta = pred - goalOutput\n",
    "    weightDelta = delta * input\n",
    "    weight = weight - (weightDelta * alpha)\n",
    "    print(weight)\n",
    "\n",
    "\n",
    "print(\"The weight flips signs and gets larger & larger\")"
   ]
  },
  {
   "cell_type": "code",
   "execution_count": 4,
   "metadata": {},
   "outputs": [
    {
     "name": "stdout",
     "output_type": "stream",
     "text": [
      "Weight: 2.333\n",
      "Alpha: 0.1\n",
      "iterations: 4\n"
     ]
    }
   ],
   "source": [
    "import sys\n",
    "\n",
    "def neural_network(input, weight):\n",
    "    return input * weight\n",
    "\n",
    "\n",
    "input = 3 \n",
    "initialWeight = 2 \n",
    "goalOutput = 7 \n",
    "alpha = .1\n",
    "threshold = .0009\n",
    "\n",
    "iterations = 0\n",
    "oldWeight = sys.float_info.max\n",
    "weight = initialWeight\n",
    "while(abs(oldWeight - weight) > threshold):\n",
    "    oldWeight = weight\n",
    "    iterations += 1\n",
    "    pred = input * weight\n",
    "    delta = pred - goalOutput\n",
    "    weightDelta = delta * input\n",
    "    weight = weight - (weightDelta * alpha)\n",
    "print(f\"Weight: {weight:.4}\")\n",
    "print(f\"Alpha: {alpha}\")\n",
    "print(f\"iterations: {iterations}\")"
   ]
  }
 ],
 "metadata": {
  "kernelspec": {
   "display_name": "Python 3",
   "language": "python",
   "name": "python3"
  },
  "language_info": {
   "codemirror_mode": {
    "name": "ipython",
    "version": 3
   },
   "file_extension": ".py",
   "mimetype": "text/x-python",
   "name": "python",
   "nbconvert_exporter": "python",
   "pygments_lexer": "ipython3",
   "version": "3.11.0"
  }
 },
 "nbformat": 4,
 "nbformat_minor": 2
}
