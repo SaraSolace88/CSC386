{
 "cells": [
  {
   "cell_type": "code",
   "execution_count": 10,
   "metadata": {},
   "outputs": [],
   "source": [
    "#%pip install tensorflow\n",
    "#%pip install keras\n",
    "#%pip install matplotlib\n"
   ]
  },
  {
   "cell_type": "code",
   "execution_count": 1,
   "metadata": {
    "_cell_guid": "b1076dfc-b9ad-4769-8c92-a6c4dae69d19",
    "_uuid": "8f2839f25d086af736a60e9eeb907d3b93b6e0e5",
    "trusted": true
   },
   "outputs": [
    {
     "name": "stdout",
     "output_type": "stream",
     "text": [
      " I:349 Error:0.108 Correct:1.099"
     ]
    }
   ],
   "source": [
    "import sys, numpy as np\n",
    "from keras.datasets import mnist\n",
    "\n",
    "(x_train, y_train), (x_test, y_test) = mnist.load_data()\n",
    "\n",
    "images, labels = (x_train[0:1000].reshape(1000,28*28) / 255, y_train[0:1000])\n",
    "one_hot_labels = np.zeros((len(labels),10))\n",
    "\n",
    "for i,l in enumerate(labels):\n",
    "    one_hot_labels[i][l] = 1\n",
    "labels = one_hot_labels\n",
    "\n",
    "test_images = x_test.reshape(len(x_test),28*28) / 255\n",
    "test_labels = np.zeros((len(y_test),10))\n",
    "for i,l in enumerate(y_test):\n",
    "    test_labels[i][l] = 1\n",
    "\n",
    "np.random.seed(1)\n",
    "relu = lambda x:(x>=0) * x\n",
    "relu2deriv = lambda x: x>=0\n",
    "alpha, iterations, hidden_size, pixels_per_image, num_labels = (0.005, 350, 40, 784, 10)\n",
    "weights_0_1 = 0.2*np.random.random((pixels_per_image,hidden_size)) - 0.1\n",
    "weights_1_2 = 0.2*np.random.random((hidden_size,num_labels)) - 0.1\n",
    "\n",
    "for j in range(iterations):\n",
    "    error, correct_cnt = (0.0, 0)\n",
    "\n",
    "    for i in range(len(images)):\n",
    "        layer_0 = images[i:i+1]\n",
    "        layer_1 = relu(np.dot(layer_0,weights_0_1))\n",
    "        layer_2 = np.dot(layer_1,weights_1_2)\n",
    "        error += np.sum((labels[i:i+1] - layer_2) ** 2)\n",
    "        correct_cnt += int(np.argmax(layer_2) == np.argmax(labels[i:i+1]))\n",
    "        layer_2_delta = (labels[i:i+1] - layer_2)\n",
    "        layer_1_delta = layer_2_delta.dot(weights_1_2.T) * relu2deriv(layer_1)\n",
    "        weights_1_2 += alpha * layer_1.T.dot(layer_2_delta)\n",
    "        weights_0_1 += alpha * layer_0.T.dot(layer_1_delta)\n",
    "\n",
    "    sys.stdout.write(\"\\r\"+ \" I:\"+str(j)+\" Error:\" + str(error/float(len(images)))[0:5] + \" Correct:\" + str(correct_cnt/float(len(images))))"
   ]
  },
  {
   "cell_type": "code",
   "execution_count": 2,
   "metadata": {
    "trusted": true
   },
   "outputs": [
    {
     "name": "stdout",
     "output_type": "stream",
     "text": [
      "[-3.27533080e-02 -5.37572964e-03  6.82407035e-02  6.95686725e-02\n",
      " -2.67865372e-03 -1.50480362e-01  9.74881207e-01  1.15799228e-02\n",
      " -8.82299563e-06  1.97680831e-02]\n",
      "6\n"
     ]
    }
   ],
   "source": [
    "# Show dimensionality\n",
    "print(layer_2[0])\n",
    "print(np.argmax(layer_2))"
   ]
  },
  {
   "cell_type": "code",
   "execution_count": 3,
   "metadata": {
    "trusted": true
   },
   "outputs": [
    {
     "data": {
      "text/plain": [
       "<Figure size 640x480 with 0 Axes>"
      ]
     },
     "metadata": {},
     "output_type": "display_data"
    },
    {
     "data": {
      "image/png": "[encoded data removed]",
      "text/plain": [
       "<Figure size 480x480 with 1 Axes>"
      ]
     },
     "metadata": {},
     "output_type": "display_data"
    }
   ],
   "source": [
    "# Visualize pictures with plot\n",
    "\n",
    "import matplotlib.pyplot as plit\n",
    "plit.gray()\n",
    "plit.matshow(x_train[i])\n",
    "plit.show()"
   ]
  },
  {
   "cell_type": "code",
   "execution_count": 4,
   "metadata": {
    "trusted": true
   },
   "outputs": [
    {
     "name": "stdout",
     "output_type": "stream",
     "text": [
      " Test-Err:0.653 Test-Acc:0.7073\n"
     ]
    }
   ],
   "source": [
    "error, correct_cnt = (0.0, 0)\n",
    "\n",
    "for i in range(len(test_images)):\n",
    "\n",
    "    layer_0 = test_images[i:i+1]\n",
    "    layer_1 = relu(np.dot(layer_0,weights_0_1))\n",
    "    layer_2 = np.dot(layer_1,weights_1_2)\n",
    "\n",
    "    error += np.sum((test_labels[i:i+1] - layer_2) ** 2)\n",
    "    correct_cnt += int(np.argmax(layer_2) == np.argmax(test_labels[i:i+1]))\n",
    "\n",
    "print(\" Test-Err:\" + str(error/float(len(test_images)))[0:5] + \" Test-Acc:\" + str(correct_cnt/float(len(test_images))))"
   ]
  },
  {
   "cell_type": "code",
   "execution_count": 5,
   "metadata": {
    "trusted": true
   },
   "outputs": [
    {
     "name": "stdout",
     "output_type": "stream",
     "text": [
      " I:349 Error:0.590 Correct:0.701"
     ]
    }
   ],
   "source": [
    "# Modify with Dropout mask\n",
    "# multiply by (1/percentage of turned on nodes)\n",
    "\n",
    "weights_0_1 = 0.2*np.random.random((pixels_per_image,hidden_size)) - 0.1\n",
    "weights_1_2 = 0.2*np.random.random((hidden_size,num_labels)) - 0.1\n",
    "\n",
    "for j in range(iterations):\n",
    "    error, correct_cnt = (0.0, 0)\n",
    "\n",
    "    for i in range(len(images)):\n",
    "        layer_0 = images[i:i+1]\n",
    "        layer_1 = relu(np.dot(layer_0,weights_0_1))     #Here's Relu\n",
    "        dropout_mask = np.random.randint(2, size=layer_1.shape)\n",
    "        layer_1 *= dropout_mask * 2\n",
    "\n",
    "        layer_2 = np.dot(layer_1,weights_1_2)\n",
    "        error += np.sum((labels[i:i+1] - layer_2) ** 2)\n",
    "        correct_cnt += int(np.argmax(layer_2) == np.argmax(labels[i:i+1]))\n",
    "        layer_2_delta = (labels[i:i+1] - layer_2)\n",
    "        layer_1_delta = layer_2_delta.dot(weights_1_2.T) * relu2deriv(layer_1)\n",
    "        weights_1_2 += alpha * layer_1.T.dot(layer_2_delta)\n",
    "        weights_0_1 += alpha * layer_0.T.dot(layer_1_delta)\n",
    "\n",
    "    sys.stdout.write(\"\\r\"+ \" I:\"+str(j)+\" Error:\" + str(error/float(len(images)))[0:5] + \" Correct:\" + str(correct_cnt/float(len(images))))"
   ]
  },
  {
   "cell_type": "code",
   "execution_count": 6,
   "metadata": {
    "trusted": true
   },
   "outputs": [],
   "source": [
    "#print(dropout_mask)"
   ]
  },
  {
   "cell_type": "code",
   "execution_count": 7,
   "metadata": {
    "trusted": true
   },
   "outputs": [
    {
     "name": "stdout",
     "output_type": "stream",
     "text": [
      " Test-Err:0.452 Test-Acc:0.7834\n"
     ]
    }
   ],
   "source": [
    "error, correct_cnt = (0.0, 0)\n",
    "\n",
    "for i in range(len(test_images)):\n",
    "\n",
    "    layer_0 = test_images[i:i+1]\n",
    "    layer_1 = relu(np.dot(layer_0,weights_0_1))\n",
    "    layer_2 = np.dot(layer_1,weights_1_2)\n",
    "\n",
    "    error += np.sum((test_labels[i:i+1] - layer_2) ** 2)\n",
    "    correct_cnt += int(np.argmax(layer_2) == np.argmax(test_labels[i:i+1]))\n",
    "\n",
    "print(\" Test-Err:\" + str(error/float(len(test_images)))[0:5] + \" Test-Acc:\" + str(correct_cnt/float(len(test_images))))"
   ]
  },
  {
   "cell_type": "code",
   "execution_count": 8,
   "metadata": {
    "trusted": true
   },
   "outputs": [
    {
     "name": "stdout",
     "output_type": "stream",
     "text": [
      " I:349 Error:0.468 Correct:0.767"
     ]
    }
   ],
   "source": [
    "## Now let's add batch code.\n",
    "weights_0_1 = 0.2*np.random.random((pixels_per_image,hidden_size)) - 0.1\n",
    "weights_1_2 = 0.2*np.random.random((hidden_size,num_labels)) - 0.1\n",
    "\n",
    "alpha = .001 # notice it's bigger\n",
    "batch_size = 100\n",
    "\n",
    "for j in range(iterations):\n",
    "    error, correct_cnt = (0.0, 0)\n",
    "\n",
    "    for i in range(int(len(images) / batch_size)): # modify here\n",
    "        batch_start, batch_end = ((i * batch_size),((i+1)*batch_size))\n",
    "        \n",
    "        layer_0 = images[batch_start:batch_end] # modify here\n",
    "        layer_1 = relu(np.dot(layer_0,weights_0_1))\n",
    "        dropout_mask = np.random.randint(2, size=layer_1.shape)\n",
    "        layer_1 *= dropout_mask * 2\n",
    "        layer_2 = np.dot(layer_1,weights_1_2)\n",
    "        error += np.sum((labels[batch_start:batch_end] - layer_2) ** 2)\n",
    "        for k in range(batch_size): #modify Here\n",
    "            correct_cnt += int(np.argmax(layer_2[k:k+1]) == np.argmax(labels[batch_start+k:batch_start+k+1]))\n",
    "            layer_2_delta = (labels[batch_start:batch_end] - layer_2) / batch_size\n",
    "            layer_1_delta = layer_2_delta.dot(weights_1_2.T) * relu2deriv(layer_1)\n",
    "            layer_1_delta *= dropout_mask\n",
    "            weights_1_2 += alpha * layer_1.T.dot(layer_2_delta)\n",
    "            weights_0_1 += alpha * layer_0.T.dot(layer_1_delta)\n",
    "\n",
    "    sys.stdout.write(\"\\r\"+ \" I:\"+str(j)+\" Error:\" + str(error/float(len(images)))[0:5] + \" Correct:\" + str(correct_cnt/float(len(images))))"
   ]
  },
  {
   "cell_type": "code",
   "execution_count": 9,
   "metadata": {
    "trusted": true
   },
   "outputs": [
    {
     "name": "stdout",
     "output_type": "stream",
     "text": [
      " Test-Err:0.460 Test-Acc:0.7641\n"
     ]
    }
   ],
   "source": [
    "error, correct_cnt = (0.0, 0)\n",
    "\n",
    "for i in range(len(test_images)):\n",
    "\n",
    "    layer_0 = test_images[i:i+1]\n",
    "    layer_1 = relu(np.dot(layer_0,weights_0_1))\n",
    "    layer_2 = np.dot(layer_1,weights_1_2)\n",
    "\n",
    "    error += np.sum((test_labels[i:i+1] - layer_2) ** 2)\n",
    "    correct_cnt += int(np.argmax(layer_2) == np.argmax(test_labels[i:i+1]))\n",
    "\n",
    "print(\" Test-Err:\" + str(error/float(len(test_images)))[0:5] + \" Test-Acc:\" + str(correct_cnt/float(len(test_images))))"
   ]
  },
  {
   "cell_type": "code",
   "execution_count": 13,
   "metadata": {
    "trusted": true
   },
   "outputs": [
    {
     "name": "stdout",
     "output_type": "stream",
     "text": [
      "\n",
      "I:0 Test-Acc:0.1684 Train-Acc:0.128\n",
      "I:10 Test-Acc:0.4931 Train-Acc:0.396\n",
      "I:20 Test-Acc:0.5814 Train-Acc:0.528\n",
      "I:30 Test-Acc:0.6429 Train-Acc:0.601\n",
      "I:40 Test-Acc:0.6871 Train-Acc:0.647\n",
      "I:50 Test-Acc:0.7127 Train-Acc:0.695\n",
      "I:60 Test-Acc:0.7343 Train-Acc:0.728\n",
      "I:70 Test-Acc:0.7529 Train-Acc:0.742\n",
      "I:80 Test-Acc:0.7699 Train-Acc:0.764\n",
      "I:90 Test-Acc:0.7821 Train-Acc:0.771\n",
      "I:100 Test-Acc:0.7909 Train-Acc:0.798\n",
      "I:110 Test-Acc:0.8008 Train-Acc:0.794\n",
      "I:120 Test-Acc:0.807 Train-Acc:0.797\n",
      "I:130 Test-Acc:0.8113 Train-Acc:0.824\n",
      "I:140 Test-Acc:0.8135 Train-Acc:0.826\n",
      "I:150 Test-Acc:0.8189 Train-Acc:0.829\n",
      "I:160 Test-Acc:0.8213 Train-Acc:0.829\n",
      "I:170 Test-Acc:0.8242 Train-Acc:0.85\n",
      "I:180 Test-Acc:0.827 Train-Acc:0.842\n",
      "I:190 Test-Acc:0.8286 Train-Acc:0.863\n",
      "I:200 Test-Acc:0.8314 Train-Acc:0.857\n",
      "I:210 Test-Acc:0.8325 Train-Acc:0.858\n",
      "I:220 Test-Acc:0.8325 Train-Acc:0.868\n",
      "I:230 Test-Acc:0.8329 Train-Acc:0.857\n",
      "I:240 Test-Acc:0.8325 Train-Acc:0.862\n",
      "I:250 Test-Acc:0.8332 Train-Acc:0.851\n",
      "I:260 Test-Acc:0.8318 Train-Acc:0.85\n",
      "I:270 Test-Acc:0.8301 Train-Acc:0.864\n",
      "I:280 Test-Acc:0.8295 Train-Acc:0.862\n",
      "I:290 Test-Acc:0.8266 Train-Acc:0.843\n",
      "I:300 Test-Acc:0.8255 Train-Acc:0.849\n",
      "I:310 Test-Acc:0.8102 Train-Acc:0.817\n",
      "I:320 Test-Acc:0.8145 Train-Acc:0.804\n",
      "I:330 Test-Acc:0.8145 Train-Acc:0.816\n",
      "I:340 Test-Acc:0.8137 Train-Acc:0.809"
     ]
    }
   ],
   "source": [
    "import numpy as np\n",
    "# Add activation functions\n",
    "def tanh(x):\n",
    "    return np.tanh(x)\n",
    "\n",
    "def tanh2deriv(output):\n",
    "    return 1 - (output**2)\n",
    "\n",
    "def softmax(x):\n",
    "    temp = np.exp(x)\n",
    "    return temp / np.sum(temp, axis = 1, keepdims = True)\n",
    "\n",
    "weights_0_1 = 0.2*np.random.random((pixels_per_image,hidden_size)) - 0.1\n",
    "weights_1_2 = 0.2*np.random.random((hidden_size,num_labels)) - 0.1\n",
    "\n",
    "alpha = 2\n",
    "\n",
    "iterations = 350\n",
    "for j in range(iterations):\n",
    "    correct_cnt = 0\n",
    "    for i in range(int(len(images) / batch_size)):\n",
    "        batch_start, batch_end=((i * batch_size),((i+1)*batch_size))\n",
    "        layer_0 = images[batch_start:batch_end]\n",
    "        layer_1 = tanh(np.dot(layer_0,weights_0_1))\n",
    "        dropout_mask = np.random.randint(2,size=layer_1.shape)\n",
    "        layer_1 *= dropout_mask * 2\n",
    "        layer_2 = softmax(np.dot(layer_1,weights_1_2))\n",
    "\n",
    "        for k in range(batch_size):\n",
    "            correct_cnt += int(np.argmax(layer_2[k:k+1]) == \\\n",
    "                          np.argmax(labels[batch_start+k:batch_start+k+1]))\n",
    "        layer_2_delta = (labels[batch_start:batch_end]-layer_2)\\\n",
    "                                           / (batch_size * layer_2.shape[0])\n",
    "        layer_1_delta = layer_2_delta.dot(weights_1_2.T) \\\n",
    "                                                       * tanh2deriv(layer_1)\n",
    "        layer_1_delta *= dropout_mask\n",
    "\n",
    "        weights_1_2 += alpha * layer_1.T.dot(layer_2_delta)\n",
    "        weights_0_1 += alpha * layer_0.T.dot(layer_1_delta)\n",
    "    \n",
    "    test_correct_cnt = 0\n",
    "\n",
    "    for i in range(len(test_images)):\n",
    "\n",
    "        layer_0 = test_images[i:i+1]\n",
    "        layer_1 = tanh(np.dot(layer_0,weights_0_1))\n",
    "        layer_2 = np.dot(layer_1,weights_1_2)\n",
    "        test_correct_cnt += int(np.argmax(layer_2) == \\\n",
    "                                               np.argmax(test_labels[i:i+1]))\n",
    "    if(j % 10 == 0):\n",
    "        sys.stdout.write(\"\\n\"+ \"I:\" + str(j) + \\\n",
    "         \" Test-Acc:\"+str(test_correct_cnt/float(len(test_images)))+\\\n",
    "         \" Train-Acc:\" + str(correct_cnt/float(len(images))))"
   ]
  }
 ],
 "metadata": {
  "kernelspec": {
   "display_name": "Python 3",
   "language": "python",
   "name": "python3"
  },
  "language_info": {
   "codemirror_mode": {
    "name": "ipython",
    "version": 3
   },
   "file_extension": ".py",
   "mimetype": "text/x-python",
   "name": "python",
   "nbconvert_exporter": "python",
   "pygments_lexer": "ipython3",
   "version": "3.11.0"
  }
 },
 "nbformat": 4,
 "nbformat_minor": 4
}
